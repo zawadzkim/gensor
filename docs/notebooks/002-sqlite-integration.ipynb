{
 "cells": [
  {
   "cell_type": "markdown",
   "metadata": {},
   "source": [
    "# SQLite itegration\n",
    "\n",
    "If you want to process your sensor data and store it for later, you can use the sqlite integration. Gensor's `Timeseries` and `Dataset` come with a `.to_sql()` method which is uses `pandas.Series.to_sql()` method under the hood to save the data in a SQLite database. \n",
    "\n",
    "It is a simple implementation, where each timeseries is stored in a separate schema (database table) which is named in the following pattern: `f\"{location}_{sensor}_{variable}_{unit}\".lower()`. There is a double check on duplicates. First, when you create a `Dataset`, duplicates are nicely handled by merging timeseries from the same location, sensor and of the same variable and unit. Secondly the `Timeseries.to_sql()` method is designed to ignore conflicts, so only new records are inserted into the database if you attempt to run the same commend twice."
   ]
  },
  {
   "cell_type": "markdown",
   "metadata": {},
   "source": [
    "### Load test data"
   ]
  },
  {
   "cell_type": "code",
   "execution_count": null,
   "metadata": {},
   "outputs": [],
   "source": [
    "from gensor import read_from_csv\n",
    "from gensor.db import DatabaseConnection\n",
    "from pathlib import Path\n",
    "\n",
    "test_data = Path('/mnt/g/My Drive/Kinrooi_FieldData/DiverMate/CSV')\n",
    "\n",
    "pattern = r'[A-Za-z]{2}\\d{2}[A-Za-z]{1}|Barodiver'\n",
    "\n",
    "ds = read_from_csv(path=test_data, \n",
    "                    file_format='vanessen', \n",
    "                    location_pattern=pattern)\n",
    "\n",
    "# We get a Dataset with 2 Timeseries in it\n",
    "ds.plot()"
   ]
  },
  {
   "cell_type": "markdown",
   "metadata": {},
   "source": [
    "### Create `DatabaseConnection`\n",
    "\n",
    "Both saving and loading data from sqlite require a `DatabaseConnection` object to be passed as attribute. You can just instanciate it with empty parentheses to create a new database in the current working directory, or specify the path and name of the database.\n",
    "\n",
    "If you have an existing Gensor database, you can use `DatabaseConnection.get_tables()` to see if there already are some tables in the database that you want to use."
   ]
  },
  {
   "cell_type": "code",
   "execution_count": null,
   "metadata": {},
   "outputs": [],
   "source": [
    "db = DatabaseConnection()\n",
    "db.get_tables()"
   ]
  },
  {
   "cell_type": "markdown",
   "metadata": {},
   "source": [
    "Loading the dataset to the database is straightforward. You just need to call `.to_sql()` on the dataset instance and check the tables again to see that now there are a few."
   ]
  },
  {
   "cell_type": "code",
   "execution_count": null,
   "metadata": {},
   "outputs": [],
   "source": [
    "ds.to_sql(db)\n",
    "db.get_tables()"
   ]
  },
  {
   "cell_type": "code",
   "execution_count": null,
   "metadata": {},
   "outputs": [],
   "source": [
    "from gensor import read_from_sql, Dataset\n",
    "\n",
    "# Issue: the unit name is case sensitive (shouldn't be)\n",
    "new_ds: Dataset = read_from_sql(db, True)\n",
    "new_ds.plot()"
   ]
  }
 ],
 "metadata": {
  "kernelspec": {
   "display_name": "gensor-ExENfS0Z-py3.11",
   "language": "python",
   "name": "python3"
  },
  "language_info": {
   "codemirror_mode": {
    "name": "ipython",
    "version": 3
   },
   "file_extension": ".py",
   "mimetype": "text/x-python",
   "name": "python",
   "nbconvert_exporter": "python",
   "pygments_lexer": "ipython3",
   "version": "3.11.9"
  }
 },
 "nbformat": 4,
 "nbformat_minor": 2
}
