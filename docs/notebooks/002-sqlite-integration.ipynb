{
 "cells": [
  {
   "cell_type": "markdown",
   "metadata": {},
   "source": [
    "# SQLite itegration\n",
    "\n",
    "If you want to process your sensor data and store it for later, you can use the sqlite integration. Gensor's `Timeseries` and `Dataset` come with a `.to_sql()` method which is uses `pandas.Series.to_sql()` method under the hood to save the data in a SQLite database. \n",
    "\n",
    "It is a simple implementation, where each timeseries is stored in a separate schema (database table) which is named in the following pattern: `f\"{location}_{sensor}_{variable}_{unit}\".lower()`. There is a double check on duplicates. First, when you create a `Dataset`, duplicates are nicely handled by merging timeseries from the same location, sensor and of the same variable and unit. Secondly the `Timeseries.to_sql()` method is designed to ignore conflicts, so only new records are inserted into the database if you attempt to run the same commend twice."
   ]
  },
  {
   "cell_type": "markdown",
   "metadata": {},
   "source": [
    "### Load test data"
   ]
  },
  {
   "cell_type": "code",
   "execution_count": 12,
   "metadata": {},
   "outputs": [
    {
     "name": "stderr",
     "output_type": "stream",
     "text": [
      "INFO: Loading file: /workspaces/gensor/gensor/testdata/Barodiver_220427183008_BY222.csv\n"
     ]
    },
    {
     "name": "stderr",
     "output_type": "stream",
     "text": [
      "INFO: Loading file: /workspaces/gensor/gensor/testdata/PB01A_moni_AV319_220427183019_AV319.csv\n",
      "INFO: Loading file: /workspaces/gensor/gensor/testdata/PB02A_plain.csv\n",
      "INFO: Skipping file /workspaces/gensor/gensor/testdata/PB02A_plain.csv due to missing metadata.\n",
      "INFO: Loading file: /workspaces/gensor/gensor/testdata/PB02A_plain.csv\n"
     ]
    },
    {
     "data": {
      "text/plain": [
       "Dataset(6)"
      ]
     },
     "execution_count": 12,
     "metadata": {},
     "output_type": "execute_result"
    }
   ],
   "source": [
    "import gensor as gs\n",
    "from gensor import read_from_csv\n",
    "from gensor.testdata import all_paths, pb02a_plain\n",
    "\n",
    "pattern = r\"[A-Za-z]{2}\\d{2}[A-Za-z]{1}|Barodiver\"\n",
    "\n",
    "ds = read_from_csv(path=all_paths, file_format=\"vanessen\", location_pattern=pattern)\n",
    "\n",
    "\n",
    "ds2 = read_from_csv(\n",
    "    path=pb02a_plain, file_format=\"plain\", location=\"PB02A\", sensor=\"AV336\"\n",
    ")\n",
    "\n",
    "ds.add(ds2)"
   ]
  },
  {
   "cell_type": "markdown",
   "metadata": {},
   "source": [
    "### Create `DatabaseConnection`\n",
    "\n",
    "Both saving and loading data from sqlite require a `DatabaseConnection` object to be passed as attribute. You can just instanciate it with empty parentheses to create a new database in the current working directory, or specify the path and name of the database.\n",
    "\n",
    "If you have an existing Gensor database, you can use `DatabaseConnection.get_timeseries_metadata()` to see if there already are some tables in the database that you want to use. If no arguments are provided, all records are returned."
   ]
  },
  {
   "cell_type": "code",
   "execution_count": 13,
   "metadata": {},
   "outputs": [
    {
     "data": {
      "text/html": [
       "<div>\n",
       "<style scoped>\n",
       "    .dataframe tbody tr th:only-of-type {\n",
       "        vertical-align: middle;\n",
       "    }\n",
       "\n",
       "    .dataframe tbody tr th {\n",
       "        vertical-align: top;\n",
       "    }\n",
       "\n",
       "    .dataframe thead th {\n",
       "        text-align: right;\n",
       "    }\n",
       "</style>\n",
       "<table border=\"1\" class=\"dataframe\">\n",
       "  <thead>\n",
       "    <tr style=\"text-align: right;\">\n",
       "      <th></th>\n",
       "      <th>table_name</th>\n",
       "      <th>location</th>\n",
       "      <th>variable</th>\n",
       "      <th>unit</th>\n",
       "      <th>start</th>\n",
       "      <th>end</th>\n",
       "      <th>extra</th>\n",
       "      <th>cls</th>\n",
       "    </tr>\n",
       "    <tr>\n",
       "      <th>id</th>\n",
       "      <th></th>\n",
       "      <th></th>\n",
       "      <th></th>\n",
       "      <th></th>\n",
       "      <th></th>\n",
       "      <th></th>\n",
       "      <th></th>\n",
       "      <th></th>\n",
       "    </tr>\n",
       "  </thead>\n",
       "  <tbody>\n",
       "    <tr>\n",
       "      <th>1</th>\n",
       "      <td>barodiver_pressure_cmh2o</td>\n",
       "      <td>Barodiver</td>\n",
       "      <td>pressure</td>\n",
       "      <td>cmh2o</td>\n",
       "      <td>20200704040000</td>\n",
       "      <td>20220330130000</td>\n",
       "      <td>{'sensor': 'BY222', 'sensor_alt': None}</td>\n",
       "      <td>gensor.core.timeseries.Timeseries</td>\n",
       "    </tr>\n",
       "    <tr>\n",
       "      <th>2</th>\n",
       "      <td>barodiver_temperature_degc</td>\n",
       "      <td>Barodiver</td>\n",
       "      <td>temperature</td>\n",
       "      <td>degc</td>\n",
       "      <td>20200704040000</td>\n",
       "      <td>20220330130000</td>\n",
       "      <td>{'sensor': 'BY222', 'sensor_alt': None}</td>\n",
       "      <td>gensor.core.timeseries.Timeseries</td>\n",
       "    </tr>\n",
       "    <tr>\n",
       "      <th>3</th>\n",
       "      <td>pb01a_pressure_cmh2o</td>\n",
       "      <td>PB01A</td>\n",
       "      <td>pressure</td>\n",
       "      <td>cmh2o</td>\n",
       "      <td>20200704040000</td>\n",
       "      <td>20220330090000</td>\n",
       "      <td>{'sensor': 'AV319', 'sensor_alt': None}</td>\n",
       "      <td>gensor.core.timeseries.Timeseries</td>\n",
       "    </tr>\n",
       "    <tr>\n",
       "      <th>4</th>\n",
       "      <td>pb01a_temperature_degc</td>\n",
       "      <td>PB01A</td>\n",
       "      <td>temperature</td>\n",
       "      <td>degc</td>\n",
       "      <td>20200704040000</td>\n",
       "      <td>20220330090000</td>\n",
       "      <td>{'sensor': 'AV319', 'sensor_alt': None}</td>\n",
       "      <td>gensor.core.timeseries.Timeseries</td>\n",
       "    </tr>\n",
       "    <tr>\n",
       "      <th>5</th>\n",
       "      <td>pb02a_pressure_cmh2o</td>\n",
       "      <td>PB02A</td>\n",
       "      <td>pressure</td>\n",
       "      <td>cmh2o</td>\n",
       "      <td>20200704060000</td>\n",
       "      <td>20220207160000</td>\n",
       "      <td>{'sensor': 'AV336', 'sensor_alt': None}</td>\n",
       "      <td>gensor.core.timeseries.Timeseries</td>\n",
       "    </tr>\n",
       "    <tr>\n",
       "      <th>6</th>\n",
       "      <td>pb02a_temperature_degc</td>\n",
       "      <td>PB02A</td>\n",
       "      <td>temperature</td>\n",
       "      <td>degc</td>\n",
       "      <td>20200704060000</td>\n",
       "      <td>20220207160000</td>\n",
       "      <td>{'sensor': 'AV336', 'sensor_alt': None}</td>\n",
       "      <td>gensor.core.timeseries.Timeseries</td>\n",
       "    </tr>\n",
       "  </tbody>\n",
       "</table>\n",
       "</div>"
      ],
      "text/plain": [
       "                    table_name   location     variable   unit           start  \\\n",
       "id                                                                              \n",
       "1     barodiver_pressure_cmh2o  Barodiver     pressure  cmh2o  20200704040000   \n",
       "2   barodiver_temperature_degc  Barodiver  temperature   degc  20200704040000   \n",
       "3         pb01a_pressure_cmh2o      PB01A     pressure  cmh2o  20200704040000   \n",
       "4       pb01a_temperature_degc      PB01A  temperature   degc  20200704040000   \n",
       "5         pb02a_pressure_cmh2o      PB02A     pressure  cmh2o  20200704060000   \n",
       "6       pb02a_temperature_degc      PB02A  temperature   degc  20200704060000   \n",
       "\n",
       "               end                                    extra  \\\n",
       "id                                                            \n",
       "1   20220330130000  {'sensor': 'BY222', 'sensor_alt': None}   \n",
       "2   20220330130000  {'sensor': 'BY222', 'sensor_alt': None}   \n",
       "3   20220330090000  {'sensor': 'AV319', 'sensor_alt': None}   \n",
       "4   20220330090000  {'sensor': 'AV319', 'sensor_alt': None}   \n",
       "5   20220207160000  {'sensor': 'AV336', 'sensor_alt': None}   \n",
       "6   20220207160000  {'sensor': 'AV336', 'sensor_alt': None}   \n",
       "\n",
       "                                  cls  \n",
       "id                                     \n",
       "1   gensor.core.timeseries.Timeseries  \n",
       "2   gensor.core.timeseries.Timeseries  \n",
       "3   gensor.core.timeseries.Timeseries  \n",
       "4   gensor.core.timeseries.Timeseries  \n",
       "5   gensor.core.timeseries.Timeseries  \n",
       "6   gensor.core.timeseries.Timeseries  "
      ]
     },
     "execution_count": 13,
     "metadata": {},
     "output_type": "execute_result"
    }
   ],
   "source": [
    "db = gs.db.DatabaseConnection()\n",
    "db.get_timeseries_metadata()"
   ]
  },
  {
   "cell_type": "markdown",
   "metadata": {},
   "source": [
    "Loading the dataset to the database is straightforward. You just need to call `.to_sql()` on the dataset instance and check the tables again to see that now there are a few."
   ]
  },
  {
   "cell_type": "code",
   "execution_count": 14,
   "metadata": {},
   "outputs": [],
   "source": [
    "ds.to_sql(db)\n",
    "df = db.get_timeseries_metadata()"
   ]
  },
  {
   "cell_type": "code",
   "execution_count": 16,
   "metadata": {},
   "outputs": [
    {
     "data": {
      "text/html": [
       "<div>\n",
       "<style scoped>\n",
       "    .dataframe tbody tr th:only-of-type {\n",
       "        vertical-align: middle;\n",
       "    }\n",
       "\n",
       "    .dataframe tbody tr th {\n",
       "        vertical-align: top;\n",
       "    }\n",
       "\n",
       "    .dataframe thead th {\n",
       "        text-align: right;\n",
       "    }\n",
       "</style>\n",
       "<table border=\"1\" class=\"dataframe\">\n",
       "  <thead>\n",
       "    <tr style=\"text-align: right;\">\n",
       "      <th></th>\n",
       "      <th>table_name</th>\n",
       "      <th>location</th>\n",
       "      <th>variable</th>\n",
       "      <th>unit</th>\n",
       "      <th>start</th>\n",
       "      <th>end</th>\n",
       "      <th>extra</th>\n",
       "      <th>cls</th>\n",
       "    </tr>\n",
       "    <tr>\n",
       "      <th>id</th>\n",
       "      <th></th>\n",
       "      <th></th>\n",
       "      <th></th>\n",
       "      <th></th>\n",
       "      <th></th>\n",
       "      <th></th>\n",
       "      <th></th>\n",
       "      <th></th>\n",
       "    </tr>\n",
       "  </thead>\n",
       "  <tbody>\n",
       "    <tr>\n",
       "      <th>1</th>\n",
       "      <td>barodiver_pressure_cmh2o</td>\n",
       "      <td>Barodiver</td>\n",
       "      <td>pressure</td>\n",
       "      <td>cmh2o</td>\n",
       "      <td>20200704040000</td>\n",
       "      <td>20220330130000</td>\n",
       "      <td>{'sensor': 'BY222', 'sensor_alt': None}</td>\n",
       "      <td>gensor.core.timeseries.Timeseries</td>\n",
       "    </tr>\n",
       "    <tr>\n",
       "      <th>2</th>\n",
       "      <td>barodiver_temperature_degc</td>\n",
       "      <td>Barodiver</td>\n",
       "      <td>temperature</td>\n",
       "      <td>degc</td>\n",
       "      <td>20200704040000</td>\n",
       "      <td>20220330130000</td>\n",
       "      <td>{'sensor': 'BY222', 'sensor_alt': None}</td>\n",
       "      <td>gensor.core.timeseries.Timeseries</td>\n",
       "    </tr>\n",
       "    <tr>\n",
       "      <th>3</th>\n",
       "      <td>pb01a_pressure_cmh2o</td>\n",
       "      <td>PB01A</td>\n",
       "      <td>pressure</td>\n",
       "      <td>cmh2o</td>\n",
       "      <td>20200704040000</td>\n",
       "      <td>20220330090000</td>\n",
       "      <td>{'sensor': 'AV319', 'sensor_alt': None}</td>\n",
       "      <td>gensor.core.timeseries.Timeseries</td>\n",
       "    </tr>\n",
       "    <tr>\n",
       "      <th>4</th>\n",
       "      <td>pb01a_temperature_degc</td>\n",
       "      <td>PB01A</td>\n",
       "      <td>temperature</td>\n",
       "      <td>degc</td>\n",
       "      <td>20200704040000</td>\n",
       "      <td>20220330090000</td>\n",
       "      <td>{'sensor': 'AV319', 'sensor_alt': None}</td>\n",
       "      <td>gensor.core.timeseries.Timeseries</td>\n",
       "    </tr>\n",
       "    <tr>\n",
       "      <th>5</th>\n",
       "      <td>pb02a_pressure_cmh2o</td>\n",
       "      <td>PB02A</td>\n",
       "      <td>pressure</td>\n",
       "      <td>cmh2o</td>\n",
       "      <td>20200704060000</td>\n",
       "      <td>20220207160000</td>\n",
       "      <td>{'sensor': 'AV336', 'sensor_alt': None}</td>\n",
       "      <td>gensor.core.timeseries.Timeseries</td>\n",
       "    </tr>\n",
       "    <tr>\n",
       "      <th>6</th>\n",
       "      <td>pb02a_temperature_degc</td>\n",
       "      <td>PB02A</td>\n",
       "      <td>temperature</td>\n",
       "      <td>degc</td>\n",
       "      <td>20200704060000</td>\n",
       "      <td>20220207160000</td>\n",
       "      <td>{'sensor': 'AV336', 'sensor_alt': None}</td>\n",
       "      <td>gensor.core.timeseries.Timeseries</td>\n",
       "    </tr>\n",
       "  </tbody>\n",
       "</table>\n",
       "</div>"
      ],
      "text/plain": [
       "                    table_name   location     variable   unit           start  \\\n",
       "id                                                                              \n",
       "1     barodiver_pressure_cmh2o  Barodiver     pressure  cmh2o  20200704040000   \n",
       "2   barodiver_temperature_degc  Barodiver  temperature   degc  20200704040000   \n",
       "3         pb01a_pressure_cmh2o      PB01A     pressure  cmh2o  20200704040000   \n",
       "4       pb01a_temperature_degc      PB01A  temperature   degc  20200704040000   \n",
       "5         pb02a_pressure_cmh2o      PB02A     pressure  cmh2o  20200704060000   \n",
       "6       pb02a_temperature_degc      PB02A  temperature   degc  20200704060000   \n",
       "\n",
       "               end                                    extra  \\\n",
       "id                                                            \n",
       "1   20220330130000  {'sensor': 'BY222', 'sensor_alt': None}   \n",
       "2   20220330130000  {'sensor': 'BY222', 'sensor_alt': None}   \n",
       "3   20220330090000  {'sensor': 'AV319', 'sensor_alt': None}   \n",
       "4   20220330090000  {'sensor': 'AV319', 'sensor_alt': None}   \n",
       "5   20220207160000  {'sensor': 'AV336', 'sensor_alt': None}   \n",
       "6   20220207160000  {'sensor': 'AV336', 'sensor_alt': None}   \n",
       "\n",
       "                                  cls  \n",
       "id                                     \n",
       "1   gensor.core.timeseries.Timeseries  \n",
       "2   gensor.core.timeseries.Timeseries  \n",
       "3   gensor.core.timeseries.Timeseries  \n",
       "4   gensor.core.timeseries.Timeseries  \n",
       "5   gensor.core.timeseries.Timeseries  \n",
       "6   gensor.core.timeseries.Timeseries  "
      ]
     },
     "execution_count": 16,
     "metadata": {},
     "output_type": "execute_result"
    }
   ],
   "source": [
    "df"
   ]
  },
  {
   "cell_type": "code",
   "execution_count": 15,
   "metadata": {},
   "outputs": [
    {
     "data": {
      "text/plain": [
       "Dataset(6)"
      ]
     },
     "execution_count": 15,
     "metadata": {},
     "output_type": "execute_result"
    }
   ],
   "source": [
    "from gensor import Dataset, read_from_sql\n",
    "\n",
    "new_ds: Dataset = read_from_sql(db, True)\n",
    "new_ds"
   ]
  }
 ],
 "metadata": {
  "kernelspec": {
   "display_name": ".venv",
   "language": "python",
   "name": "python3"
  },
  "language_info": {
   "codemirror_mode": {
    "name": "ipython",
    "version": 3
   },
   "file_extension": ".py",
   "mimetype": "text/x-python",
   "name": "python",
   "nbconvert_exporter": "python",
   "pygments_lexer": "ipython3",
   "version": "3.11.10"
  }
 },
 "nbformat": 4,
 "nbformat_minor": 2
}
