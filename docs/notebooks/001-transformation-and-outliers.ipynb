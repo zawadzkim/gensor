{
 "cells": [
  {
   "cell_type": "markdown",
   "metadata": {},
   "source": [
    "# Data transformation and outlier detection\n",
    "\n",
    "Gensor provides some simple ways to find and eliminate outliers from the data. It can also be used in combination, for example we can first transform the data and then remove outliers, what can be an effective strategy in some cases. Below we quickly get the dataset created in the previous tutorial."
   ]
  },
  {
   "cell_type": "code",
   "execution_count": null,
   "metadata": {},
   "outputs": [],
   "source": [
    "import gensor as gs\n",
    "from gensor import read_from_csv\n",
    "from gensor.testdata import all_paths, pb02a_plain\n",
    "\n",
    "pattern = r\"[A-Za-z]{2}\\d{2}[A-Za-z]{1}|Barodiver\"\n",
    "\n",
    "ds = read_from_csv(path=all_paths, file_format=\"vanessen\", location_pattern=pattern)\n",
    "\n",
    "\n",
    "ds2 = read_from_csv(\n",
    "    path=pb02a_plain, file_format=\"plain\", location=\"PB02A\", sensor=\"AV336\"\n",
    ")\n",
    "\n",
    "ds.add(ds2)\n",
    "\n",
    "baro = ds.filter(stations=\"Barodiver\", variables=\"pressure\")\n",
    "\n",
    "alts = {\"PB01A\": 31.48, \"PB02A\": 31.68}\n",
    "\n",
    "groundwater_ds = ds.filter(stations=alts.keys(), variables=\"pressure\")\n",
    "\n",
    "for ts in groundwater_ds:\n",
    "    ts.sensor_alt = alts.get(ts.location)\n",
    "\n",
    "# This is the version where we just exclude the fieldwork dates:\n",
    "# fieldwork_days = {\"PB01A\": ['2020-08-25', '2020-10-20', '2020-11-18', '2020-12-03', '2020-12-08',\n",
    "#                   '2021-02-17', '2021-03-10', '2021-04-14', '2021-05-18', '2021-05-27',\n",
    "#                   '2021-08-17', '2021-09-16'],\n",
    "#                   \"PB02A\": ['2020-08-25', '2020-10-20', '2020-11-18', '2020-12-03', '2020-12-08',\n",
    "#                   '2021-02-17', '2021-03-10', '2021-04-14', '2021-05-18', '2021-05-27',\n",
    "#                   '2021-08-17', '2021-09-16', '2021-04-26']}\n",
    "\n",
    "# compensated_ds = gs.compensate(groundwater_ds, baro, fieldwork_dates=fieldwork_days, interpolate_method='linear')\n",
    "compensated_ds = gs.compensate(groundwater_ds, baro)\n",
    "\n",
    "compensated_ds.plot()"
   ]
  },
  {
   "cell_type": "markdown",
   "metadata": {},
   "source": [
    "## Transformation\n",
    "\n",
    "In Gensor, transformations are implemented to allow flexible data processing and scaling of time series data for normalization, trend removal, variance stabilization, etc.. These transformations are important when working with sensor data, where raw measurements may need to be adjusted to enhance interpretation.\n",
    "\n",
    "The `Transformation` class in Gensor handles multiple types of transformations, including:\n",
    "\n",
    "- Difference: Used to remove trends by differencing the data over a specified period.\n",
    "- Logarithmic (Log): Applied to stabilize variance and reduce the impact of large outliers.\n",
    "- Square Root: Another method for stabilizing variance, commonly used for data skewness.\n",
    "- Box-Cox: A powerful transformation that normalizes non-normal data, often used when data contains only positive values.\n",
    "- Scaling Methods (Standard, MinMax, Robust, MaxAbs): Common normalization techniques that adjust data based on its distribution, commonly used to prepare data for machine learning models.\n",
    "\n",
    "The Timeseries class integrates this functionality, allowing application of transformations to time series data. Subsequently, user can perform operations on that transformed serie, like outlier removal, and then filter the original timeseries.\n",
    "\n",
    "Below is an example workflow on how to use differencing to enhance outlier detection:"
   ]
  },
  {
   "cell_type": "code",
   "execution_count": null,
   "metadata": {},
   "outputs": [],
   "source": [
    "ts = compensated_ds[0].model_copy(deep=True)\n",
    "ts.plot()"
   ]
  },
  {
   "cell_type": "markdown",
   "metadata": {},
   "source": [
    "We will obtain a new Timeseries object containing only the dips in the negative direction. In the case of Kinrooi sensor data, we first are trying to eliminate records which were taken when the diver was out of the water (which means that the water column was 0). It also includes some of the records taken after, when the groudwater level was recovering from pumping."
   ]
  },
  {
   "cell_type": "code",
   "execution_count": null,
   "metadata": {},
   "outputs": [],
   "source": [
    "ts_diff = ts.transform(\"difference\", periods=12)\n",
    "ts_diff_dips = ts_diff.loc[ts_diff.ts < 0]\n",
    "\n",
    "# we've obtained a timeseries which has identified outliers. We can use those to mask our original series.\n",
    "ts_identified_outliers = ts_diff_dips.detect_outliers(\"zscore\", threshold=1.0)\n",
    "ts_identified_outliers.plot(include_outliers=True)"
   ]
  },
  {
   "cell_type": "code",
   "execution_count": null,
   "metadata": {},
   "outputs": [],
   "source": [
    "masked = ts.mask_with(ts_identified_outliers.outliers)"
   ]
  },
  {
   "cell_type": "code",
   "execution_count": null,
   "metadata": {},
   "outputs": [],
   "source": [
    "masked.plot()"
   ]
  },
  {
   "cell_type": "markdown",
   "metadata": {},
   "source": [
    "By tweaking the paramters of each outlier detection method, we can actually quite accurately remove them from the dataset without doing it sevral times in a loop."
   ]
  }
 ],
 "metadata": {
  "kernelspec": {
   "display_name": ".venv",
   "language": "python",
   "name": "python3"
  },
  "language_info": {
   "codemirror_mode": {
    "name": "ipython",
    "version": 3
   },
   "file_extension": ".py",
   "mimetype": "text/x-python",
   "name": "python",
   "nbconvert_exporter": "python",
   "pygments_lexer": "ipython3",
   "version": "3.11.10"
  }
 },
 "nbformat": 4,
 "nbformat_minor": 2
}
