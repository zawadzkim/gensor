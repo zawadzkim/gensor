{
 "cells": [
  {
   "cell_type": "markdown",
   "metadata": {},
   "source": [
    "# Working with Datasets"
   ]
  },
  {
   "cell_type": "markdown",
   "metadata": {},
   "source": [
    "### Adding two datasets together"
   ]
  },
  {
   "cell_type": "code",
   "execution_count": null,
   "metadata": {},
   "outputs": [],
   "source": [
    "from pathlib import Path\n",
    "import gensor as gs\n",
    "\n",
    "test_data = Path('/mnt/g/My Drive/Kinrooi_FieldData/DiverMate/CSV')\n",
    "test_data2 = Path('/mnt/g/My Drive/Kinrooi_FieldData/DiverMate/CSV/20220611')\n"
   ]
  },
  {
   "cell_type": "code",
   "execution_count": null,
   "metadata": {},
   "outputs": [],
   "source": [
    "pattern = r'[A-Za-z]{2}\\d{2}[A-Za-z]{1}|Barodiver'\n",
    "\n",
    "ds1 = gs.read_from_csv(path=test_data, \n",
    "                    file_format='vanessen', \n",
    "                    location_pattern=pattern)\n",
    "\n",
    "ds2 = gs.read_from_csv(path=test_data2, \n",
    "                    file_format='vanessen', \n",
    "                    location_pattern=pattern)\n",
    "\n"
   ]
  },
  {
   "cell_type": "code",
   "execution_count": null,
   "metadata": {},
   "outputs": [],
   "source": [
    "ds1"
   ]
  },
  {
   "cell_type": "code",
   "execution_count": null,
   "metadata": {},
   "outputs": [],
   "source": [
    "ds2"
   ]
  },
  {
   "cell_type": "code",
   "execution_count": null,
   "metadata": {},
   "outputs": [],
   "source": [
    "ds3 = ds1.add(ds2)"
   ]
  },
  {
   "cell_type": "code",
   "execution_count": null,
   "metadata": {},
   "outputs": [],
   "source": [
    "ds1.plot()"
   ]
  },
  {
   "cell_type": "code",
   "execution_count": null,
   "metadata": {},
   "outputs": [],
   "source": [
    "db = gs.db.DatabaseConnection()\n",
    "ds1.to_sql(db)"
   ]
  },
  {
   "cell_type": "code",
   "execution_count": null,
   "metadata": {},
   "outputs": [],
   "source": [
    "test_data3 = Path('/mnt/g/My Drive/Kinrooi_FieldData/DiverMate/CSV/20220611/Baro')\n",
    "ds = gs.read_from_csv(path=test_data3, \n",
    "                    file_format='vanessen', \n",
    "                    location_pattern=pattern)"
   ]
  }
 ],
 "metadata": {
  "kernelspec": {
   "display_name": "gensor-ExENfS0Z-py3.11",
   "language": "python",
   "name": "python3"
  },
  "language_info": {
   "codemirror_mode": {
    "name": "ipython",
    "version": 3
   },
   "file_extension": ".py",
   "mimetype": "text/x-python",
   "name": "python",
   "nbconvert_exporter": "python",
   "pygments_lexer": "ipython3",
   "version": "3.11.9"
  }
 },
 "nbformat": 4,
 "nbformat_minor": 2
}
