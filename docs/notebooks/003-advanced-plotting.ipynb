{
 "cells": [
  {
   "cell_type": "markdown",
   "metadata": {},
   "source": [
    "# Advanced plotting\n",
    "\n",
    "When `.plot()` is called on a `Timeseries` or `Dataset` object, matplotlib axes and fig are returned. Parameters [`plot_kwargs`](https://matplotlib.org/stable/api/_as_gen/matplotlib.axes.Axes.plot.html) and [`legend_kwargs`](https://matplotlib.org/stable/api/legend_api.html) can be used to customize the plot."
   ]
  },
  {
   "cell_type": "code",
   "execution_count": null,
   "metadata": {},
   "outputs": [],
   "source": [
    "import gensor as gs\n",
    "from gensor.testdata import all_paths\n",
    "\n",
    "import matplotlib.pyplot as plt\n",
    "\n",
    "gs.set_log_level(\"WARNING\")"
   ]
  },
  {
   "cell_type": "code",
   "execution_count": null,
   "metadata": {},
   "outputs": [],
   "source": [
    "pattern = r'[A-Za-z]{2}\\d{2}[A-Za-z]{1}|Barodiver'\n",
    "\n",
    "ds = gs.read_from_csv(path=all_paths, \n",
    "                    file_format='vanessen', \n",
    "                    location_pattern=pattern)"
   ]
  },
  {
   "cell_type": "markdown",
   "metadata": {},
   "source": [
    "## Standard plot\n",
    "\n",
    "Standard plotting will work great if you need to quickly check out a dataset that is not too large. With more timeseries, the standard way of potting becomes less performant and the visual suffers."
   ]
  },
  {
   "cell_type": "code",
   "execution_count": null,
   "metadata": {},
   "outputs": [],
   "source": [
    "fig, axs = ds.plot()\n",
    "plt.show()"
   ]
  },
  {
   "cell_type": "markdown",
   "metadata": {},
   "source": [
    "## Customized plot\n",
    "\n",
    "When you have a large number of timeseries, it would be good to have control over, for example, the shape and location of the legend or the style of the line. Define the settings in two dictionaries and pass them to the `.plot()` method."
   ]
  },
  {
   "cell_type": "code",
   "execution_count": null,
   "metadata": {},
   "outputs": [],
   "source": [
    "plot_kwargs = {\n",
    "    \"linestyle\": \"--\"\n",
    "}\n",
    "\n",
    "legend_kwargs = {\n",
    "    \"loc\": \"center left\", \"bbox_to_anchor\": (1, 0.95), \"ncol\": 1\n",
    "}"
   ]
  },
  {
   "cell_type": "code",
   "execution_count": null,
   "metadata": {},
   "outputs": [],
   "source": [
    "fig, axs = ds.plot(plot_kwargs=plot_kwargs, legend_kwargs=legend_kwargs)\n",
    "plt.show()\n"
   ]
  },
  {
   "cell_type": "markdown",
   "metadata": {},
   "source": [
    "This works exactly the same for a Dataset and for a Timeseries."
   ]
  },
  {
   "cell_type": "code",
   "execution_count": null,
   "metadata": {},
   "outputs": [],
   "source": [
    "fig, axs = ds.filter(location='PB01A', variable='pressure').plot(plot_kwargs=plot_kwargs, legend_kwargs=legend_kwargs)\n",
    "plt.show()"
   ]
  },
  {
   "cell_type": "markdown",
   "metadata": {},
   "source": [
    "## Further customization\n",
    "\n",
    "The tuple returned from .plot() contains fix and an array of axes. We can iterate over them to attach certain properties to all (e.g., adding grid), or retrieve just one and change properties for a particular ax (e.g., add shading under the graph)."
   ]
  },
  {
   "cell_type": "code",
   "execution_count": null,
   "metadata": {},
   "outputs": [],
   "source": [
    "def get_axis_by_title(axes, title):\n",
    "    \"\"\"Retrieve an axis from an array of axes based on the title text.\"\"\"\n",
    "    for ax in axes.flat:\n",
    "        if ax.get_title() == title:\n",
    "            return ax\n",
    "    raise ValueError(f\"No axis found with title: '{title}'\")\n",
    "\n"
   ]
  },
  {
   "cell_type": "code",
   "execution_count": null,
   "metadata": {},
   "outputs": [],
   "source": [
    "fig, axs = ds.plot(plot_kwargs=plot_kwargs, legend_kwargs=legend_kwargs)\n",
    "\n",
    "for ax in axs:\n",
    "    ax.grid(True)\n",
    "    ax.label_outer()\n",
    "\n",
    "\n",
    "ax_temperature = get_axis_by_title(axs, \"Timeseries for Temperature\")\n",
    "\n",
    "x = ax_temperature.get_lines()[0].get_xdata()\n",
    "y = ax_temperature.get_lines()[0].get_ydata()\n",
    "\n",
    "ax_temperature.fill_between(x, y, color=\"skyblue\", alpha=0.7)\n",
    "\n",
    "plt.show()"
   ]
  }
 ],
 "metadata": {
  "kernelspec": {
   "display_name": ".venv",
   "language": "python",
   "name": "python3"
  },
  "language_info": {
   "codemirror_mode": {
    "name": "ipython",
    "version": 3
   },
   "file_extension": ".py",
   "mimetype": "text/x-python",
   "name": "python",
   "nbconvert_exporter": "python",
   "pygments_lexer": "ipython3",
   "version": "3.11.10"
  }
 },
 "nbformat": 4,
 "nbformat_minor": 2
}
